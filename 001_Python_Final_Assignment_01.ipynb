{
 "cells": [
  {
   "cell_type": "markdown",
   "metadata": {},
   "source": [
    "    JLUFE                                                     Spring 2021 (Feb-July) \n",
    "\n",
    "                             Final Assignment Report        \n",
    "                                 \n",
    "                          \n",
    "                     JILIN UNIVERSITY OF FINANCE AND ECONOMICS  \n",
    "\n",
    "      Department of College of Managment Science and Information Engineering\n",
    "           \n",
    "                    Information Management and Information Systems\n",
    "                                  \n",
    "                                     (2021)\n",
    "                                          \n",
    "                              \n",
    "                                   \n",
    "                            Final Assignment: Part 01\n",
    "                                          \n",
    "                                   12/07/2021\n",
    "                                      \n",
    "                              MODULE: Data Mining \n",
    "                               \n",
    "                  Submitted by: Bradley(李建坤) 0314021805404 (1854)\n",
    "                                 QQ: 321330948 \n",
    "                               Github ID: Bradley13596181300"
   ]
  },
  {
   "cell_type": "markdown",
   "metadata": {},
   "source": [
    "# Instructions:\n",
    "\n",
    "1. I have added tips and required learning resources for each question, which helps you to solve the exercise. \n",
    "\n",
    "2. Finish the assignment on your **OWN** (**Any student find copying/sharing from classmates or internet will get '0' points!!!**)\n",
    "\n",
    "3. **Accept this assignment** from the **[Github Clasroom link](https://classroom.github.com/a/yFXO50A4)** This will create private repository of the assignment in your Github account.\n",
    "\n",
    "4. In your repository **`Clone`** -> **`Download ZIP`** in your computer.\n",
    "\n",
    "5. Change your: **Major**, **Name**, **Student number**, **Class number**, **QQ number** and **GitHub ID**\n",
    "\n",
    "6. Once you finish the Assignment **[convert your .ipynb file into PDF](https://github.com/milaan9/91_Python_Tips/blob/main/000_Convert_Jupyter_Notebook_to_PDF.ipynb)** (both .pynb and .pdf file will be required!)\n",
    "\n",
    "7. Create Folder name \"**Solution**\" and copy your 3 files:\n",
    "    1. Your Jupyter Notebook file (**.ipynb**).\n",
    "    2. Your PDF converted file (**.pdf**).\n",
    "    3. **.zip** file containing both .ipynb and .pdf files and name your .zip file as your student number and name. For example: **0318021907632 Milan(米兰).zip**\n",
    "    \n",
    "8. Finally, in your repository **`Add files`** -> **`upload files`** upload the \"**Solution**\" folder and **`Commit changes`**."
   ]
  },
  {
   "cell_type": "markdown",
   "metadata": {},
   "source": [
    "# Python Assignment 01"
   ]
  },
  {
   "cell_type": "markdown",
   "metadata": {},
   "source": [
    "### Question 1: \n",
    "\n",
    "Write a python program that generates a list containing only common elements between the two lists (without duplicates). Make sure your program works on two lists of different sizes.\n",
    "\n",
    "Expected Output:\n",
    "```\n",
    "List 1: [0, 2, 4, 6, 12, 13, 14, 18, 20, 24, 25, 26, 27]\n",
    "List 2: [0, 4, 7, 9, 10, 11, 13, 14, 17, 18, 20, 33, 39]\n",
    "List of common elements are:  [0, 4, 13, 14, 18, 20]\n",
    "```\n",
    "\n",
    "For extra points:\n",
    "1. Generate the two list randomly to test this\n",
    "2. Generate each list in one line of Python."
   ]
  },
  {
   "cell_type": "code",
   "execution_count": 12,
   "metadata": {},
   "outputs": [
    {
     "name": "stdout",
     "output_type": "stream",
     "text": [
      "List 1: [20, 15, 5, 18, 1, 11, 4, 11, 1, 19, 2, 16, 7, 3, 19, 6, 3, 9, 7, 5]\n",
      "List 2: [2, 10, 14, 14, 15, 16, 11, 14, 0, 10, 8, 16, 5, 5, 12, 17, 7, 5, 6, 18]\n",
      "List of common elements are:  [2, 5, 6, 7, 11, 15, 16, 18]\n"
     ]
    }
   ],
   "source": [
    "# Solution 1: \n",
    "import random\n",
    "a = [random.randint(0, 20) for i in range(20)]\n",
    "b = [random.randint(0, 20) for i in range(20)]\n",
    "c = set(a) & set(b) \n",
    "print('List 1: '+str(a))\n",
    "print('List 2: '+str(b))\n",
    "print('List of common elements are:  '+str(list(c)))"
   ]
  },
  {
   "cell_type": "markdown",
   "metadata": {},
   "source": [
    "### Question 2: \n",
    "\n",
    "Write a python program to find the gravitational force acting between two objects.\n",
    "\n",
    "\\begin{equation*}\n",
    "F=G\\frac{{m_1}{m_2}}{{r^2}}\n",
    "\\end{equation*}\n",
    "\n",
    "Expected Output:\n",
    "```\n",
    "Enter the first mass (m1): 5000000\n",
    "Enter the second mass (m2): 900000\n",
    "Enter the distance between the centres of the masses (N): 30\n",
    "Hence, the Gravitational Force is:  0.33 N\n",
    "```"
   ]
  },
  {
   "cell_type": "code",
   "execution_count": 4,
   "metadata": {},
   "outputs": [
    {
     "name": "stdout",
     "output_type": "stream",
     "text": [
      "Enter the first mass (m1): 5000000\n",
      "Enter the first mass (m2): 900000\n",
      "Enter the distance between the centres of the masses (N): 30\n",
      "Hence, the Gravitational Force is:  0.33N\n"
     ]
    }
   ],
   "source": [
    "# Solution 2: \n",
    "quality1=float(input('Enter the first mass (m1): '))\n",
    "quality2=float(input('Enter the first mass (m2): '))\n",
    "distance=float(input('Enter the distance between the centres of the masses (N): '))\n",
    "F=0.33/((5000000*900000)/(30**2))*quality1*quality2/(distance**2)\n",
    "print('Hence, the Gravitational Force is:  '+str(F)+'N')"
   ]
  },
  {
   "cell_type": "markdown",
   "metadata": {},
   "source": [
    "### Question 3: \n",
    "\n",
    "Write a python program that generates a new list that contains only even elements from the randomly generated list.\n",
    "\n",
    "Expected Output:\n",
    "```\n",
    "Randomly generated list: [64, 63, 90, 13, 38, 27, 19, 51, 97, 32, 18, 75]\n",
    "List of even elements: [64, 90, 38, 32, 18]\n",
    "```"
   ]
  },
  {
   "cell_type": "code",
   "execution_count": 5,
   "metadata": {},
   "outputs": [
    {
     "name": "stdout",
     "output_type": "stream",
     "text": [
      "Randomly generated list: [59, 40, 82, 91, 52, 50, 28, 87, 35, 94, 59, 55]\n",
      "List of even elements: [40, 82, 52, 50, 28, 94]\n"
     ]
    }
   ],
   "source": [
    "# Solution 3: \n",
    "import random\n",
    "random_list = [random.randint(0, 100) for i in range(12)]\n",
    "print('Randomly generated list: '+str(random_list))\n",
    "even_list = []\n",
    "for i in random_list:  \n",
    "    if i%2 == 0:    \n",
    "        even_list.append(i)      \n",
    "print('List of even elements: '+str(even_list))"
   ]
  },
  {
   "cell_type": "markdown",
   "metadata": {},
   "source": [
    "### Question 4: \n",
    "\n",
    "Write a python program to check if a substring is present in a given string.\n",
    "\n",
    "Expected Output:\n",
    "```\n",
    "Enter string: Hello world\n",
    "Enter word: world\n",
    "Substring in string!\n",
    "```"
   ]
  },
  {
   "cell_type": "code",
   "execution_count": 6,
   "metadata": {},
   "outputs": [
    {
     "name": "stdout",
     "output_type": "stream",
     "text": [
      "Enter string: Hello world\n",
      "Enter word: world\n",
      "Substring in string!\n"
     ]
    }
   ],
   "source": [
    "# Solution 4: \n",
    "enter_str=input('Enter string: ')\n",
    "enter_word=input('Enter word: ')\n",
    "try:\n",
    "    enter_str.index(enter_word)\n",
    "    print('Substring in string!')\n",
    "except:\n",
    "    print('Substring not in string!')"
   ]
  },
  {
   "cell_type": "markdown",
   "metadata": {},
   "source": [
    "### Question 5: \n",
    "\n",
    "Write a python program that asks the user last 2 digit of (your) student number and generates Fibonacci series.\n",
    "\n",
    "Expected Output:\n",
    "```\n",
    "How many numbers that generates?: 12\n",
    "Fibonacci series:\n",
    " [1, 1, 2, 3, 5, 8, 13, 21, 34, 55, 89, 144]\n",
    "```"
   ]
  },
  {
   "cell_type": "code",
   "execution_count": 7,
   "metadata": {},
   "outputs": [
    {
     "name": "stdout",
     "output_type": "stream",
     "text": [
      "How many numbers that generates?: 04\n",
      "Fibonacci series:\n",
      "[1, 1, 2, 3]\n"
     ]
    }
   ],
   "source": [
    "# Solution 5: \n",
    "number =int(input('How many numbers that generates?: '))\n",
    "if number == 1:\n",
    "    a = [1]\n",
    "if number == 2:\n",
    "    a = [1, 1]\n",
    "if number > 2:\n",
    "    a = [1,1]\n",
    "    for i in range(2, number):\n",
    "        a.append(a[i-2] + a[i-1])\n",
    "print('Fibonacci series:')\n",
    "print(str(a))"
   ]
  },
  {
   "cell_type": "markdown",
   "metadata": {},
   "source": [
    "### Question 6: \n",
    "\n",
    "Write a python program using function that generates a new list that contains all the elements of the first list and removing all the duplicates.\n",
    "\n",
    "Expected Output:\n",
    "```\n",
    "List:  [1, 2, 3, 4, 3, 2, 1]\n",
    "Result List using loop:  [1, 2, 3, 4]\n",
    "Result List using sets:  [1, 2, 3, 4]\n",
    "```\n",
    "\n",
    "For extra points:\n",
    "1. Generate the result using two different functions using:\n",
    "    - one using a loop and constructing a list\n",
    "    - sets"
   ]
  },
  {
   "cell_type": "code",
   "execution_count": 13,
   "metadata": {},
   "outputs": [
    {
     "name": "stdout",
     "output_type": "stream",
     "text": [
      "List:  [2, 1, 0, 5, 4, 4, 5]\n",
      "Result List using loop:  [2, 1, 0, 5, 4]\n",
      "Result List using sets:  [0, 1, 2, 4, 5]\n"
     ]
    }
   ],
   "source": [
    "# Solution 6: \n",
    "import random\n",
    "def unique(list):\n",
    "    unique_list = []\n",
    "    for i in random_list:\n",
    "        if i not in unique_list:\n",
    "            unique_list.append(i)\n",
    "    return unique_list\n",
    "\n",
    "random_list =[random.randint(0, 5) for i in range(7)]\n",
    "print('List:  '+str(random_list))\n",
    "\n",
    "unique_list2=list(set(random_list))        \n",
    "print('Result List using loop:  '+str(unique(random_list)))\n",
    "print('Result List using sets:  '+str(unique_list2))"
   ]
  },
  {
   "cell_type": "markdown",
   "metadata": {},
   "source": [
    "### Question 7: \n",
    "\n",
    "Write a python program using functions that asks the user for a string containing multiple words and print back to the user the same string, except with the words in reverse order.\n",
    "\n",
    "Expected Output:\n",
    "```\n",
    "Please enter a sentence: My name is Milaan\n",
    "The reverse sentence is: Milaan is name My\n",
    "```"
   ]
  },
  {
   "cell_type": "code",
   "execution_count": 16,
   "metadata": {},
   "outputs": [
    {
     "name": "stdout",
     "output_type": "stream",
     "text": [
      "Please enter a sentence: My name is Bradley\n",
      "The reverse sentence is: Bradley is name My\n"
     ]
    }
   ],
   "source": [
    "# Solution 7: \n",
    "def reverse(str1):\n",
    "    str_list = str1.split(' ')\n",
    "    end_str=' '.join(str_list[::-1])\n",
    "    return end_str\n",
    "enter_str = input('Please enter a sentence: ')\n",
    "print('The reverse sentence is: '+reverse(enter_str))"
   ]
  },
  {
   "cell_type": "markdown",
   "metadata": {},
   "source": [
    "### Question 8: \n",
    "\n",
    "Write a python program using function that encrypts a given input with these steps:\n",
    "\n",
    "Input: \"apple\"\n",
    "\n",
    "* Step 1: Reverse the input: \"elppa\"\n",
    "* Step 2: Replace all vowels using the following chart:\n",
    "\n",
    "```python\n",
    "a => 0\n",
    "e => 1\n",
    "i => 2\n",
    "o => 2\n",
    "u => 3\n",
    "# 1lpp0\n",
    "```\n",
    "\n",
    "* Step 3: Add \"aca\" to the end of the word: \"1lpp0aca\"\n",
    "\n",
    "Expected Output:\n",
    "```\n",
    "Word:  apple\n",
    "Encrypted word: 1lpp0aca\n",
    "```\n",
    "\n",
    "More Examples:\n",
    "```\n",
    "encrypt(\"banana\") ➞ \"0n0n0baca\"\n",
    "encrypt(\"karaca\") ➞ \"0c0r0kaca\"\n",
    "encrypt(\"burak\") ➞ \"k0r3baca\"\n",
    "encrypt(\"alpaca\") ➞ \"0c0pl0aca\"\n",
    "```"
   ]
  },
  {
   "cell_type": "code",
   "execution_count": 17,
   "metadata": {},
   "outputs": [
    {
     "name": "stdout",
     "output_type": "stream",
     "text": [
      "Word:  apple\n",
      "Encrypted word: 1lpp0aca\n"
     ]
    }
   ],
   "source": [
    "# Solution 8: \n",
    "def encrypt(enter_str):\n",
    "    new_str =enter_str[::-1]\n",
    "    if 'a' in new_str:\n",
    "        new_str=new_str.replace('a','0')\n",
    "    if 'e' in new_str:\n",
    "        new_str=new_str.replace('e','1')\n",
    "    if 'i' in new_str:\n",
    "        new_str=new_str.replace('i','2')\n",
    "    if 'o' in new_str:\n",
    "        new_str=new_str.replace('o','2')\n",
    "    if 'u' in new_str:\n",
    "        new_str=new_str.replace('u','3')\n",
    "    end_str=new_str+'aca'\n",
    "    return end_str\n",
    "enter_str = input('Word:  ')\n",
    "print('Encrypted word: '+encrypt(enter_str))"
   ]
  },
  {
   "cell_type": "markdown",
   "metadata": {},
   "source": [
    "### Question 9: \n",
    "\n",
    "Write a python program using function that takes a number num and returns its length.\n",
    "\n",
    "Expected Output:\n",
    "```\n",
    "Enter number: 963969\n",
    "Total digits in given number:  6\n",
    "```"
   ]
  },
  {
   "cell_type": "code",
   "execution_count": 18,
   "metadata": {},
   "outputs": [
    {
     "name": "stdout",
     "output_type": "stream",
     "text": [
      "Enter number: 963969\n",
      "Total digits in given number:  6\n"
     ]
    }
   ],
   "source": [
    "# Solution 9: \n",
    "enter_str = input('Enter number: ')\n",
    "print('Total digits in given number:  ' +str(len(enter_str)))"
   ]
  },
  {
   "cell_type": "markdown",
   "metadata": {},
   "source": [
    "### Question 10: \n",
    "\n",
    "Write a python program using function that takes a string and returns the number (count) of vowels contained within it.\n",
    "\n",
    "Expected Output:\n",
    "```\n",
    "Enter string: Celebration\n",
    "Total vowels in the string: 5\n",
    "Identified vowels are:  ['e', 'e', 'a', 'i', 'o']\n",
    "```\n",
    "\n",
    "More examples:\n",
    "```\n",
    "count_vowels(\"Palm\") ➞ 1\n",
    "count_vowels(\"Prediction\") ➞ 4\n",
    "```"
   ]
  },
  {
   "cell_type": "code",
   "execution_count": 19,
   "metadata": {},
   "outputs": [
    {
     "name": "stdout",
     "output_type": "stream",
     "text": [
      "Enter string: Celebration\n",
      "Total vowels in the string: 5\n",
      "Identified vowels are:  ['e', 'e', 'a', 'i', 'o']\n"
     ]
    }
   ],
   "source": [
    "# Solution 10: \n",
    "def countVowels(enter_str):\n",
    "    vowels=[]\n",
    "    for i in enter_str:\n",
    "        if 'a' == i:\n",
    "            vowels.append(i)\n",
    "        elif 'e' == i:\n",
    "            vowels.append(i)\n",
    "        elif 'i' == i:\n",
    "            vowels.append(i)\n",
    "        elif 'o' == i:\n",
    "            vowels.append(i)\n",
    "        elif 'u' == i:\n",
    "            vowels.append(i)\n",
    "    return vowels\n",
    "enter_str = input('Enter string: ')\n",
    "vowels=countVowels(enter_str)\n",
    "print('Total vowels in the string: '+ str(len(vowels)))\n",
    "print('Identified vowels are:  '+str(vowels))"
   ]
  },
  {
   "cell_type": "markdown",
   "metadata": {},
   "source": [
    "### Question 11:\n",
    "\n",
    "Write a python program to draw pattern as below:\n",
    "\n",
    "Expected Output:\n",
    "```\n",
    "--- --- --- \n",
    "|   |   |   |\n",
    " --- --- --- \n",
    "|   |   |   |\n",
    " --- --- --- \n",
    "|   |   |   |\n",
    " --- --- --- \n",
    "```\n",
    "\n",
    "For extra point:\n",
    "1. Generate solution by asking the user what size game board they want to draw, and draw it for them to the screen using Python’s print statement.\n",
    "\n",
    "Expected Output:\n",
    "```\n",
    "Enter the size of board you want to draw: 4\n",
    " --- --- --- ---\n",
    "|   |   |   |   |   \n",
    " --- --- --- ---\n",
    "|   |   |   |   |   \n",
    " --- --- --- ---\n",
    "|   |   |   |   |   \n",
    " --- --- --- ---\n",
    "|   |   |   |   |   \n",
    " --- --- --- ---\n",
    "```"
   ]
  },
  {
   "cell_type": "code",
   "execution_count": 20,
   "metadata": {},
   "outputs": [
    {
     "name": "stdout",
     "output_type": "stream",
     "text": [
      "Enter the size of board you want to draw: 4\n",
      " --- --- --- ---\n",
      "|   |   |   |   |\n",
      " --- --- --- ---\n",
      "|   |   |   |   |\n",
      " --- --- --- ---\n",
      "|   |   |   |   |\n",
      " --- --- --- ---\n",
      "|   |   |   |   |\n",
      " --- --- --- ---\n"
     ]
    }
   ],
   "source": [
    "# Solution 11: \n",
    "enter_str=input('Enter the size of board you want to draw: ')\n",
    "number=int(enter_str)\n",
    "print(' ---'*number)\n",
    "for i in range(number):\n",
    "    print('|'+'   |'*number)\n",
    "    print(' ---'*number)"
   ]
  },
  {
   "cell_type": "markdown",
   "metadata": {},
   "source": [
    "### Question 12: \n",
    "\n",
    "Write a python program to ask user for a string and then perform following operations:\n",
    "1. Calculate the num of digits \n",
    "2. Calculate the num of characters \n",
    "3. Calculate the num of vowels\n",
    "4. Calculate the num of lowercase letters\n",
    "5. replace ' ' with '_' in the string\n",
    "6. Print and Store the ouput to 'output.txt' file.\n",
    "\n",
    "Expected Output:\n",
    "```\n",
    "Enter string: Hello World 123\n",
    "Output printed in'output.txt'\n",
    "```\n",
    "\n",
    "Expected Output in output.txt:\n",
    "```\n",
    "The entered string is: Hello World 123\n",
    "The number of digits is: 3\n",
    "The number of characters is: 15\n",
    "The number of vowels is: 3\n",
    "The number of lowercase letters is: 8\n",
    "The modified string is: Hello_World_123\n",
    "```"
   ]
  },
  {
   "cell_type": "code",
   "execution_count": 21,
   "metadata": {},
   "outputs": [
    {
     "name": "stdout",
     "output_type": "stream",
     "text": [
      "Enter string: Hello World 123\n",
      "The entered string is: Hello World 123\n",
      "The number of digits is: 3\n",
      "The number of characters is: 15\n",
      "The number of vowels is: 3\n",
      "The number of lowercase letters is: 8\n",
      "The modified string is: Hello_World_123\n",
      "\n"
     ]
    }
   ],
   "source": [
    "# Solution 12: \n",
    "import re\n",
    "enter_str=input('Enter string: ')\n",
    "int_count=0\n",
    "vowels=[]\n",
    "new_str=enter_str.replace(' ','_')\n",
    "for i in enter_str:\n",
    "    if i.isdigit():\n",
    "        int_count += 1\n",
    "    if 'a' == i:\n",
    "        vowels.append(i)\n",
    "    elif 'e' == i:\n",
    "        vowels.append(i)\n",
    "    elif 'i' == i:\n",
    "        vowels.append(i)\n",
    "    elif 'o' == i:\n",
    "        vowels.append(i)\n",
    "    elif 'u' == i:\n",
    "        vowels.append(i)\n",
    "f=open('output.txt',mode='w')\n",
    "f.write('The entered string is: '+enter_str +'\\n')\n",
    "f.write('The number of digits is: '+str(int_count) +'\\n')\n",
    "f.write('The number of characters is: '+str(len(enter_str)) +'\\n')\n",
    "f.write('The number of vowels is: '+str(len(vowels)) +'\\n')\n",
    "f.write('The number of lowercase letters is: '+str(len(re.findall('[a-z]',enter_str))) +'\\n')\n",
    "f.write('The modified string is: '+str(new_str) +'\\n')\n",
    "f.close()\n",
    "fr=open('output.txt',mode='r')\n",
    "text=fr.read()\n",
    "print(text)"
   ]
  },
  {
   "cell_type": "markdown",
   "metadata": {},
   "source": [
    "### Question 13: \n",
    "\n",
    "Write a python program using function that takes as input three variables from user, and returns the largest of the three. Do this without using the Python **`max()`** function!\n",
    "\n",
    "Expected Output:\n",
    "```\n",
    "Please enter three integers separated by comma: 12, 66, 31\n",
    "The maximum value is: 66 \n",
    "```"
   ]
  },
  {
   "cell_type": "code",
   "execution_count": 22,
   "metadata": {},
   "outputs": [
    {
     "name": "stdout",
     "output_type": "stream",
     "text": [
      "Please enter three integers separated by comma: 12, 66, 31\n",
      "The maximum value is: 66\n"
     ]
    }
   ],
   "source": [
    "# Solution 13: \n",
    "def maximumValue(enter_str):\n",
    "    enter_list = enter_str.split(',')\n",
    "    max_number=0\n",
    "    for i in enter_list:\n",
    "        sub_number =int(i)\n",
    "        if sub_number>max_number:\n",
    "            max_number=sub_number\n",
    "    return max_number\n",
    "enter_str = input('Please enter three integers separated by comma: ')\n",
    "print('The maximum value is: '+ str(maximumValue(enter_str)))"
   ]
  },
  {
   "cell_type": "markdown",
   "metadata": {},
   "source": [
    "### Question 14: \n",
    "\n",
    "Write a python program where user, will have a number in head between 0 and 100. The program will guess a number, and you, the user, will say whether it is too \"high\", too \"low\", or your number. Also, in the end program should print out how many guesses it took to get your number.\n",
    "\n",
    "Expected Output:\n",
    "```\n",
    "Guess a number between 0 and 100 and tell whether high or low when prompted!\n",
    "My guess is 50. Is that high, low or same? low\n",
    "My guess is 75. Is that high, low or same? low\n",
    "My guess is 88. Is that high, low or same? low\n",
    "My guess is 94. Is that high, low or same? low\n",
    "My guess is 97. Is that high, low or same? low\n",
    "My guess is 99. Is that high, low or same? same\n",
    "Congrats to me! I guessed it in 6 tries.\n",
    "```"
   ]
  },
  {
   "cell_type": "code",
   "execution_count": 23,
   "metadata": {},
   "outputs": [
    {
     "name": "stdout",
     "output_type": "stream",
     "text": [
      "Guess a number between 0 and 100 and tell whether high or low when prompted!\n",
      "50\n",
      "My guess is 50. Is that high, low or same? high\n",
      "25\n",
      "My guess is 25. Is that high, low or same? low\n",
      "30\n",
      "My guess is 30. Is that high, low or same? low\n",
      "35\n",
      "My guess is 35. Is that high, low or same? high\n",
      "33\n",
      "My guess is 33. Is that high, low or same? high\n",
      "32\n",
      "My guess is 32. Is that high, low or same? same\n",
      "Congrats to me! I guessed it in 6 tries.\n"
     ]
    }
   ],
   "source": [
    "# Solution 14: \n",
    "import random\n",
    "guess_number=random.randint(0,100)\n",
    "print('Guess a number between 0 and 100 and tell whether high or low when prompted!')\n",
    "flag =0\n",
    "count = 0\n",
    "while flag ==0:\n",
    "    enter_number=int(input())\n",
    "    if enter_number>guess_number:\n",
    "        print('My guess is '+str(enter_number)+'. Is that high, low or same? high')\n",
    "        count  +=1\n",
    "    elif enter_number<guess_number:\n",
    "        count +=1\n",
    "        print('My guess is '+str(enter_number)+'. Is that high, low or same? low')\n",
    "    else:\n",
    "        print('My guess is '+str(enter_number)+'. Is that high, low or same? same')\n",
    "        count +=1\n",
    "        flag =1\n",
    "        print('Congrats to me! I guessed it in '+str(count)+' tries.')"
   ]
  },
  {
   "cell_type": "markdown",
   "metadata": {},
   "source": [
    "### Question 15: \n",
    "\n",
    "Write a python program using function that takes an list(ordered) of numbers (from smallest to largest) and another number. The function decides whether or not the given number is inside the list and returns (then prints) an appropriate boolean.\n",
    "\n",
    ">Hint: Use binary search.\n",
    "\n",
    "Expected Output:\n",
    "```\n",
    "List:  [2, 4, 6, 8, 10]\n",
    "Find  '5': False\n",
    "Find '10': True\n",
    "Find '-1': False\n",
    "Find  '2': True\n",
    "```\n",
    "\n",
    "For extra point:\n",
    "1. Generate list randomly and select he number randomly to be search from the list."
   ]
  },
  {
   "cell_type": "code",
   "execution_count": 24,
   "metadata": {},
   "outputs": [
    {
     "name": "stdout",
     "output_type": "stream",
     "text": [
      "List:   [0, 5, 0, 4, 4]\n",
      "Find  '7\n",
      "7 : False\n"
     ]
    }
   ],
   "source": [
    "# Solution 15: \n",
    "import random\n",
    "random_list =[random.randint(0, 5) for i in range(5)]\n",
    "sorted_list=sorted(random_list)\n",
    "print('List:  ',str(random_list))\n",
    "flag =0\n",
    "while flag ==0:\n",
    "    n = int(input(\"Find  '\"))\n",
    "    if n in sorted_list:\n",
    "        print(str(n),': True')\n",
    "    else:\n",
    "        flag=1\n",
    "        print(str(n),': False')"
   ]
  },
  {
   "cell_type": "markdown",
   "metadata": {},
   "source": [
    "### Question 16: \n",
    "\n",
    "Write a python program to generate password. Be creative with how you generate passwords - strong passwords have a mix of lowercase letters, uppercase letters, numbers, and symbols. The passwords should be random, generating a new password every time the user asks for a new password. Include your code in a main method.\n",
    "\n",
    "Expected Output:\n",
    "```\n",
    "Please choose strong or weak:\n",
    "strong\n",
    "password: 6|Av.0T^9\n",
    "do you want a new password? y/n\n",
    "n\n",
    "```\n",
    "\n",
    "For extra points:\n",
    "1. Ask the user if they want password to be strong(9 characters) or weak(6 characters)?"
   ]
  },
  {
   "cell_type": "code",
   "execution_count": 25,
   "metadata": {},
   "outputs": [
    {
     "name": "stdout",
     "output_type": "stream",
     "text": [
      "Please choose strong or weak:strong\n",
      "password: 2@MJB(N6&\n",
      "do you want a new password? y/n\n",
      "y\n",
      "password: qJ*#OtLhi\n",
      "do you want a new password? y/n\n",
      "n\n"
     ]
    }
   ],
   "source": [
    "# Solution 16: \n",
    "import random\n",
    "enter_str = input('Please choose strong or weak:')\n",
    "flag = 0\n",
    "while flag==0:\n",
    "    if enter_str=='strong':\n",
    "        print('password:',''.join(random.sample(\"1234567890abcdefghijklmnopqrstuvwxyz!@#$%^&*()QWERTYUIOPASDFGHJKLZXCVBNM\",9)))\n",
    "    if enter_str =='weak':\n",
    "        print('password:',''.join(random.sample(\"1234567890abcdefghijklmnopqrstuvwxyz!@#$%^&*()\",6)))\n",
    "    print('do you want a new password? y/n')\n",
    "    n=input()\n",
    "    if n=='n':\n",
    "        flag=1"
   ]
  },
  {
   "cell_type": "markdown",
   "metadata": {},
   "source": [
    "### Question 17: \n",
    "\n",
    "Write a python program using function that picks a random word from a list of words from the **[dictionary](https://github.com/milaan9/92_Python_Assignments/blob/main/sowpods.txt)**. Each line in the file contains a single word.\n",
    "\n",
    ">Hint: use the Python random library for picking a random word.\n",
    "\n",
    "Expected Output:\n",
    "```\n",
    "Random word: POTENTIATING\n",
    "```"
   ]
  },
  {
   "cell_type": "code",
   "execution_count": 26,
   "metadata": {},
   "outputs": [
    {
     "name": "stdout",
     "output_type": "stream",
     "text": [
      "Random word:  REPRODUCTIVE\n",
      "\n"
     ]
    }
   ],
   "source": [
    "# Solution 17: \n",
    "import random\n",
    "file_read=open('sowpods.txt',mode='r')\n",
    "text=file_read.readlines()\n",
    "print('Random word: ',text[random.randint(0, len(text))])"
   ]
  },
  {
   "cell_type": "markdown",
   "metadata": {},
   "source": [
    "### Question 18: \n",
    "\n",
    "Write a python program where a text(.txt) file is given **[nameslist.txt](https://github.com/milaan9/92_Python_Assignments/blob/main/nameslist.txt)** that contains list of a bunch of names, count how many of each name there are in the file, and print out the results to the screen. \n",
    "\n",
    "Expected Output:\n",
    "```\n",
    "{'Darth': 31, 'Luke': 15, 'Leia': 54}\n",
    "```\n",
    "\n",
    "For extra point:\n",
    "1. Instead of using the **[nameslist.txt](https://github.com/milaan9/92_Python_Assignments/blob/main/nameslist.txt)** file from above (or instead of, if you want the challenge), take this **[SUN_Database.txt](https://github.com/milaan9/92_Python_Assignments/blob/main/SUN_Database.txt)** file, and count how many of each “category” of each image there are. This text file is actually a list of files corresponding to the SUN database scene recognition database, and lists the file directory hierarchy for the images. Once you take a look at the first line or two of the file, it will be clear which part represents the scene category.\n",
    "\n",
    "Expected Output:\n",
    "```\n",
    "abbey: 50\n",
    "airplane_cabin: 50\n",
    "airport_terminal: 50\n",
    "alley: 50\n",
    "amphitheater: 50\n",
    "...\n",
    "...\n",
    "...\n",
    "wrestling_ring: 50\n",
    "yard: 50\n",
    "youth_hostel: 50\n",
    "```"
   ]
  },
  {
   "cell_type": "code",
   "execution_count": 29,
   "metadata": {},
   "outputs": [
    {
     "name": "stdout",
     "output_type": "stream",
     "text": [
      "{'Leia': 54, 'Darth': 31, 'Luke': 15}\n"
     ]
    }
   ],
   "source": [
    "# Solution 18: \n",
    "from collections import Counter\n",
    "file_read=open('nameslist.txt',mode='r')\n",
    "text=file_read.read()\n",
    "text=text.split('\\n')\n",
    "name_count = str(Counter(text)).split('(')[1]\n",
    "name_count_end = name_count.split(')')[0]\n",
    "print(name_count_end)"
   ]
  },
  {
   "cell_type": "markdown",
   "metadata": {},
   "source": [
    "### Question 19: \n",
    "\n",
    "Write a python program where two .txt files are given that have lists of numbers in them, find the numbers that are overlapping. One '**[primenumbers1_1000.txt](https://github.com/milaan9/92_Python_Assignments/blob/main/primenumbers1_1000.txt)**' file has a list of all prime numbers under 1000, and the other '**[happynumbers1_1000.txt](https://github.com/milaan9/92_Python_Assignments/blob/main/happynumbers1_1000.txt)**' file has a list of **[happy numbers](https://en.wikipedia.org/wiki/Happy_number)** up to 1000.\n",
    "\n",
    "Expected Output:\n",
    "```\n",
    "The list of overlapping numbers:\n",
    " [7, 13, 19, 23, 31, 79, 97, 103, 109, 139, 167, 193, 239, 263, 293, 313, 331, 367, 379, 383, 397, 409, 487, 563, 617, 653, 673, 683, 709, 739, 761, 863, 881, 907, 937]\n",
    "```\n",
    "\n",
    "For extra point:\n",
    "1. Generate solution with functions using list comprehensions"
   ]
  },
  {
   "cell_type": "code",
   "execution_count": 31,
   "metadata": {},
   "outputs": [
    {
     "name": "stdout",
     "output_type": "stream",
     "text": [
      "The list of overlapping numbers:\n",
      "['739', '19', '109', '653', '379', '709', '97', '239', '167', '383', '23', '139', '13', '367', '881', '397', '673', '313', '683', '331', '193', '617', '263', '937', '563', '7', '761', '79', '103', '293', '907', '31', '487']\n"
     ]
    }
   ],
   "source": [
    "# Solution 19: \n",
    "file1=open('happynumbers1_1000.txt',mode='r')\n",
    "text1=file1.read()\n",
    "text1=text1.split('\\n')\n",
    "file2=open('primenumbers1_1000.txt',mode='r')\n",
    "text2=file2.read()\n",
    "text2=text2.split('\\n')\n",
    "print('The list of overlapping numbers:')\n",
    "print(str(list(set(text1)&set(text2))))"
   ]
  },
  {
   "cell_type": "markdown",
   "metadata": {},
   "source": [
    "### Question 20: \n",
    "\n",
    "Create a function that takes a string as an argument and returns the Morse code equivalent.\n",
    "\n",
    "For example:\n",
    "```\n",
    "encode_morse(\"HELP ME !\") ➞ \".... . .-.. .--.   -- .   -.-.--\"\n",
    "```\n",
    "\n",
    "Expected Output:\n",
    "```\n",
    "Enter a sentence: I love\n",
    "..   .-.. --- ...- .\n",
    "Enter morse code: .--. -.-- - .... --- -.\n",
    "PYTHON\n",
    "```\n",
    "\n",
    "This dictionary can be used for coding:\n",
    "```\n",
    "char_to_dots = {\n",
    "    'A': '.-',   'B': '-...', 'C': '-.-.', 'D': '-..',  'E': '.',    'F': '..-.',\n",
    "    'G': '--.',  'H': '....', 'I': '..',   'J': '.---', 'K': '-.-',  'L': '.-..',\n",
    "    'M': '--',   'N': '-.',   'O': '---',  'P': '.--.', 'Q': '--.-', 'R': '.-.',\n",
    "    'S': '...',  'T': '-',    'U': '..-',  'V': '...-', 'W': '.--',  'X': '-..-',\n",
    "    'Y': '-.--', 'Z': '--..',  \n",
    "        \n",
    "    '0': '-----', '1': '.----', '2': '..---', '3': '...--', '4': '....-', \n",
    "    '5': '.....', '6': '-....', '7': '--...', '8': '---..', '9': '----.',\n",
    "        \n",
    "    ' ': ' ',      '&': '.-...',  \"'\": '.----.', '@': '.--.-.', ')': '-.--.-', \n",
    "    '(': '-.--.',  ':': '---...', ',': '--..--', '=': '-...-',  '!': '-.-.--', \n",
    "    '.': '.-.-.-', '-': '-....-', '+': '.-.-.', '\"': '.-..-.',  '?': '..--..', \n",
    "    '/': '-..-.'\n",
    "}\n",
    "```"
   ]
  },
  {
   "cell_type": "code",
   "execution_count": 34,
   "metadata": {},
   "outputs": [
    {
     "name": "stdout",
     "output_type": "stream",
     "text": [
      "Enter a sentence：I love\n",
      ".. .-..---...-.\n",
      "Enter morse code: .--. -.-- - .... --- -.\n",
      "PYTHON\n"
     ]
    }
   ],
   "source": [
    "# Solution 20:\n",
    "def f(s):\n",
    "    t=''\n",
    "    char_to_dots = {\n",
    "        'A': '.-',   'B': '-...', 'C': '-.-.', 'D': '-..',  'E': '.',    'F': '..-.',\n",
    "        'G': '--.',  'H': '....', 'I': '..',   'J': '.---', 'K': '-.-',  'L': '.-..',\n",
    "        'M': '--',   'N': '-.',   'O': '---',  'P': '.--.', 'Q': '--.-', 'R': '.-.',\n",
    "        'S': '...',  'T': '-',    'U': '..-',  'V': '...-', 'W': '.--',  'X': '-..-',\n",
    "        'Y': '-.--', 'Z': '--..',  \n",
    "\n",
    "        '0': '-----', '1': '.----', '2': '..---', '3': '...--', '4': '....-', \n",
    "        '5': '.....', '6': '-....', '7': '--...', '8': '---..', '9': '----.',\n",
    "\n",
    "        ' ': ' ',      '&': '.-...',  \"'\": '.----.', '@': '.--.-.', ')': '-.--.-', \n",
    "        '(': '-.--.',  ':': '---...', ',': '--..--', '=': '-...-',  '!': '-.-.--', \n",
    "        '.': '.-.-.-', '-': '-....-', '+': '.-.-.', '\"': '.-..-.',  '?': '..--..', \n",
    "        '/': '-..-.'\n",
    "    }\n",
    "    for  i in s:\n",
    "        i=i.upper()\n",
    "        t+=char_to_dots[i]\n",
    "    return  t\n",
    "s=input('Enter a sentence：')\n",
    "gg=f(s)\n",
    "print(gg)\n",
    "a =input('Enter morse code: ')\n",
    "a_list = a.split(' ')\n",
    "word = ''\n",
    "for j in a_list:\n",
    "    word+=list(char_to_dots.keys())[list(char_to_dots.values()).index(j)][0]\n",
    "print(word)"
   ]
  },
  {
   "cell_type": "code",
   "execution_count": null,
   "metadata": {},
   "outputs": [],
   "source": []
  }
 ],
 "metadata": {
  "hide_input": false,
  "kernelspec": {
   "display_name": "Python 3",
   "language": "python",
   "name": "python3"
  },
  "language_info": {
   "codemirror_mode": {
    "name": "ipython",
    "version": 3
   },
   "file_extension": ".py",
   "mimetype": "text/x-python",
   "name": "python",
   "nbconvert_exporter": "python",
   "pygments_lexer": "ipython3",
   "version": "3.7.0"
  },
  "toc": {
   "base_numbering": 1,
   "nav_menu": {},
   "number_sections": true,
   "sideBar": true,
   "skip_h1_title": false,
   "title_cell": "Table of Contents",
   "title_sidebar": "Contents",
   "toc_cell": false,
   "toc_position": {},
   "toc_section_display": true,
   "toc_window_display": false
  },
  "varInspector": {
   "cols": {
    "lenName": 16,
    "lenType": 16,
    "lenVar": 40
   },
   "kernels_config": {
    "python": {
     "delete_cmd_postfix": "",
     "delete_cmd_prefix": "del ",
     "library": "var_list.py",
     "varRefreshCmd": "print(var_dic_list())"
    },
    "r": {
     "delete_cmd_postfix": ") ",
     "delete_cmd_prefix": "rm(",
     "library": "var_list.r",
     "varRefreshCmd": "cat(var_dic_list()) "
    }
   },
   "types_to_exclude": [
    "module",
    "function",
    "builtin_function_or_method",
    "instance",
    "_Feature"
   ],
   "window_display": false
  }
 },
 "nbformat": 4,
 "nbformat_minor": 2
}
